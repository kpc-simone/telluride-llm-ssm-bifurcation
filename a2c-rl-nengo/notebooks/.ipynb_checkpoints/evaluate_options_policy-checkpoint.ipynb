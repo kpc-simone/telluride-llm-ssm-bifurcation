{
 "cells": [
  {
   "cell_type": "markdown",
   "id": "933dbf07",
   "metadata": {},
   "source": [
    "In this notebook I evaluate the option-critic architecture implemented in a shallow network and with fixed intra-option policies.\n",
    "Based on previous work with shallow vs deep networks using our representation, I hypothesize that a shallow network is more sample efficient than the deep network implementations.\n",
    "To support my own personal understanding of the algorithm, I will focus on a special case of the OC architecture in which the intra-option policies are confined to be simple primitive actions. \n",
    "An ideal test environment would be a simple square maze where animals are confined to walk around its perimeter.\n",
    "The termination policies would then need to learn the corners of the square.\n",
    "\n",
    "At this point, I would be in a position to explore representing the state-option space as an SSP to learn the termination policies. \n",
    "The OC network architectures I've seen are positioned to confuse the effect of updates with each other. \n",
    "Binding the state SSP with the option SSP may position the network to learn from a more expressive space; there would be less risk that two different options are in a position to change the same trainable parameter.\n",
    "This could actually be done now with the deep network implementation. \n",
    "The policy over options would still be a function of the state only as per option-critic.\n",
    "To support skill-reuse across contexts, we could bind the state with a simple task cue (similar to David Sussillo's work) to support CONTEXT-DEPENDENT learning of BOTH the policy over options and intraoptions policies.\n",
    "\n",
    "Finally, I will explore the effect of fixed intraoption policies, using a set of pre-defined action sequences encoded as SSPs.\n",
    "Now, the animal is in a position to re-use sequences in different contexts.\n",
    "An ideal test environment would be a maze with zig-zagging\n",
    "similar to the maze that Raj Rao's group used to evaluate their predictive coding/RL algorithm\n",
    "\n",
    "Each "
   ]
  }
 ],
 "metadata": {
  "kernelspec": {
   "display_name": "Python 3 (ipykernel)",
   "language": "python",
   "name": "python3"
  },
  "language_info": {
   "codemirror_mode": {
    "name": "ipython",
    "version": 3
   },
   "file_extension": ".py",
   "mimetype": "text/x-python",
   "name": "python",
   "nbconvert_exporter": "python",
   "pygments_lexer": "ipython3",
   "version": "3.9.13"
  }
 },
 "nbformat": 4,
 "nbformat_minor": 5
}
