{
 "cells": [
  {
   "cell_type": "code",
   "execution_count": 1,
   "id": "584b248e",
   "metadata": {
    "scrolled": true
   },
   "outputs": [
    {
     "name": "stderr",
     "output_type": "stream",
     "text": [
      "C:\\Users\\Kathryn\\anaconda3\\lib\\site-packages\\gymnasium\\envs\\registration.py:693: UserWarning: \u001b[33mWARN: Overriding environment GymV26Environment-v0 already in registry.\u001b[0m\n",
      "  logger.warn(f\"Overriding environment {new_spec.id} already in registry.\")\n"
     ]
    },
    {
     "name": "stdout",
     "output_type": "stream",
     "text": [
      "[[0.18 ]\n",
      " [0.014]]\n"
     ]
    },
    {
     "name": "stderr",
     "output_type": "stream",
     "text": [
      "C:\\Users\\Kathryn\\anaconda3\\lib\\site-packages\\gymnasium\\spaces\\box.py:130: UserWarning: \u001b[33mWARN: Box bound precision lowered by casting to float32\u001b[0m\n",
      "  gym.logger.warn(f\"Box bound precision lowered by casting to {self.dtype}\")\n"
     ]
    },
    {
     "data": {
      "application/vdom.v1+json": {
       "attributes": {},
       "tagName": "div"
      },
      "text/html": [
       "\n",
       "                <script>\n",
       "                    if (Jupyter.version.split(\".\")[0] < 5) {\n",
       "                        var pb = document.getElementById(\"7995f936-7f49-410d-8d58-91ae3645398b\");\n",
       "                        var text = document.createTextNode(\n",
       "                            \"HMTL progress bar requires Jupyter Notebook >= \" +\n",
       "                            \"5.0 or Jupyter Lab. Alternatively, you can use \" +\n",
       "                            \"TerminalProgressBar().\");\n",
       "                        pb.parentNode.insertBefore(text, pb);\n",
       "                    }\n",
       "                </script>\n",
       "                <div id=\"7995f936-7f49-410d-8d58-91ae3645398b\" style=\"\n",
       "                    width: 100%;\n",
       "                    border: 1px solid #cfcfcf;\n",
       "                    border-radius: 4px;\n",
       "                    text-align: center;\n",
       "                    position: relative;\">\n",
       "                  <div class=\"pb-text\" style=\"\n",
       "                      position: absolute;\n",
       "                      width: 100%;\">\n",
       "                    0%\n",
       "                  </div>\n",
       "                  <div class=\"pb-fill\" style=\"\n",
       "                      background-color: #bdd2e6;\n",
       "                      width: 0%;\">\n",
       "                    <style type=\"text/css\" scoped=\"scoped\">\n",
       "                        @keyframes pb-fill-anim {\n",
       "                            0% { background-position: 0 0; }\n",
       "                            100% { background-position: 100px 0; }\n",
       "                        }\n",
       "                    </style>\n",
       "                    &nbsp;\n",
       "                  </div>\n",
       "                </div>"
      ],
      "text/plain": [
       "HtmlProgressBar cannot be displayed. Please use the TerminalProgressBar. It can be enabled with `nengo.rc['progress']['progress_bar'] = 'nengo.utils.progress.TerminalProgressBar'`."
      ]
     },
     "metadata": {},
     "output_type": "display_data"
    },
    {
     "data": {
      "application/vdom.v1+json": {
       "attributes": {
        "id": "75e9866c-84fe-48dc-bde9-f7417f588506",
        "style": {
         "border": "1px solid #cfcfcf",
         "borderRadius": "4px",
         "boxSizing": "border-box",
         "position": "relative",
         "textAlign": "center",
         "width": "100%"
        }
       },
       "children": [
        {
         "attributes": {
          "class": "pb-text",
          "style": {
           "position": "absolute",
           "width": "100%"
          }
         },
         "children": [
          "Build finished in 0:00:01."
         ],
         "tagName": "div"
        },
        {
         "attributes": {
          "class": "pb-fill",
          "style": {
           "animation": "none",
           "backgroundColor": "#bdd2e6",
           "backgroundImage": "none",
           "backgroundSize": "100px 100%",
           "width": "100%"
          }
         },
         "children": [
          {
           "attributes": {
            "scoped": "scoped",
            "type": "text/css"
           },
           "children": [
            "\n                        @keyframes pb-fill-anim {\n                            0% { background-position: 0 0; }\n                            100% { background-position: 100px 0; }\n                        }}"
           ],
           "tagName": "style"
          },
          " "
         ],
         "tagName": "div"
        }
       ],
       "tagName": "div"
      },
      "text/html": [
       "<script>\n",
       "              (function () {\n",
       "                  var root = document.getElementById('7995f936-7f49-410d-8d58-91ae3645398b');\n",
       "                  var text = root.getElementsByClassName('pb-text')[0];\n",
       "                  var fill = root.getElementsByClassName('pb-fill')[0];\n",
       "\n",
       "                  text.innerHTML = 'Build finished in 0:00:01.';\n",
       "                  \n",
       "            fill.style.width = '100%';\n",
       "            fill.style.animation = 'pb-fill-anim 2s linear infinite';\n",
       "            fill.style.backgroundSize = '100px 100%';\n",
       "            fill.style.backgroundImage = 'repeating-linear-gradient(' +\n",
       "                '90deg, #bdd2e6, #edf2f8 40%, #bdd2e6 80%, #bdd2e6)';\n",
       "        \n",
       "                  \n",
       "                fill.style.animation = 'none';\n",
       "                fill.style.backgroundImage = 'none';\n",
       "            \n",
       "              })();\n",
       "        </script>"
      ]
     },
     "metadata": {},
     "output_type": "display_data"
    },
    {
     "name": "stdout",
     "output_type": "stream",
     "text": [
      "Creating softmax policy ... \n"
     ]
    },
    {
     "name": "stderr",
     "output_type": "stream",
     "text": [
      "100%|█████████████████████████████████████████████████████████████████| 192000/192000 [04:28<00:00, 715.73it/s]\n"
     ]
    }
   ],
   "source": [
    "import gymnasium\n",
    "\n",
    "# discrete action\n",
    "#env = gymnasium.make('CartPole-v1')\n",
    "env = gymnasium.make('MountainCar-v0')\n",
    "\n",
    "# continuous action\n",
    "#env = gymnasium.make('Pendulum-v1')\n",
    "#env = gymnasium.make('MountainCarContinuous-v0')\n",
    "#env = gymnasium.make('BipedalWalker-v3')\n",
    "\n",
    "from a2c import A2C\n",
    "model = A2C(env = env)\n",
    "\n",
    "#from ace import ACE\n",
    "#model = ACE( env = env, intrinsic_reward = False )\n",
    "\n",
    "model.learn( total_timesteps = 192000 )"
   ]
  },
  {
   "cell_type": "code",
   "execution_count": 1,
   "id": "c0787d4e",
   "metadata": {},
   "outputs": [
    {
     "ename": "NameError",
     "evalue": "name 'model' is not defined",
     "output_type": "error",
     "traceback": [
      "\u001b[1;31m---------------------------------------------------------------------------\u001b[0m",
      "\u001b[1;31mNameError\u001b[0m                                 Traceback (most recent call last)",
      "\u001b[1;32m~\\AppData\\Local\\Temp\\ipykernel_19760\\3925759520.py\u001b[0m in \u001b[0;36m<module>\u001b[1;34m\u001b[0m\n\u001b[1;32m----> 1\u001b[1;33m \u001b[0mepdf\u001b[0m \u001b[1;33m=\u001b[0m \u001b[0mmodel\u001b[0m\u001b[1;33m.\u001b[0m\u001b[0mget_training_data\u001b[0m\u001b[1;33m(\u001b[0m\u001b[1;33m)\u001b[0m\u001b[1;33m\u001b[0m\u001b[1;33m\u001b[0m\u001b[0m\n\u001b[0m",
      "\u001b[1;31mNameError\u001b[0m: name 'model' is not defined"
     ]
    }
   ],
   "source": [
    "epdf = model.get_training_data()"
   ]
  },
  {
   "cell_type": "code",
   "execution_count": null,
   "id": "5bebfd25",
   "metadata": {},
   "outputs": [],
   "source": [
    "import matplotlib.pyplot as plt\n",
    "fig,ax = plt.subplots(1,1)\n",
    "ax.plot(epdf['rewards'])\n",
    "#ax.set_ylim(0.,1.)\n",
    "plt.show()"
   ]
  },
  {
   "cell_type": "code",
   "execution_count": null,
   "id": "069e6658",
   "metadata": {},
   "outputs": [],
   "source": [
    "import numpy as np\n",
    "query_pts_per_dim = (190,110)\n",
    "meshes = np.meshgrid(*[np.linspace(low, high, n_query_pts) \n",
    "                            for low,high,n_query_pts in zip(env.observation_space.low,env.observation_space.high,query_pts_per_dim) ])\n",
    "query_xs = np.vstack([m.flatten() for m in meshes]).T\n",
    "\n",
    "print(query_xs.shape)\n",
    "values = np.zeros( (query_xs.shape[0]) )\n",
    "policy = np.zeros( (query_xs.shape[0]) )\n",
    "\n",
    "query_phis = np.zeros( (query_xs.shape[0],model.state_dimensions) )\n",
    "for i,query_x in enumerate(query_xs):\n",
    "    query_phi = model.env.observation( query_x )\n",
    "    values[i] = model.get_state_value( query_phi )\n",
    "    policy_params = model.get_policy_params( query_phi )\n",
    "    ps =  model.policy.compute_pmf( policy_params )\n",
    "    if ps.argmax() == 0:\n",
    "        policy[i] = ps.max()\n",
    "    elif ps.argmax() == 2:\n",
    "        policy[i] = - ps.max()\n",
    "    else:\n",
    "        policy[i] = 0."
   ]
  },
  {
   "cell_type": "code",
   "execution_count": null,
   "id": "63241521",
   "metadata": {},
   "outputs": [],
   "source": [
    "fig,ax = plt.subplots(1,1)\n",
    "ax.hist(policy,range=(-1,1),bins=201)\n",
    "plt.show()\n",
    "    \n",
    "fig,(ax1,ax2) = plt.subplots(1,2,figsize=(8.,4.))\n",
    "ax1.imshow(values.reshape(query_pts_per_dim[::-1]).T,\n",
    "              origin = 'lower',\n",
    "              extent = (-1.2,0.6,-0.07,0.07),\n",
    "              aspect = 'auto',\n",
    "              cmap = 'inferno',\n",
    "         )\n",
    "ax2.imshow(policy.reshape(query_pts_per_dim[::-1]).T,\n",
    "              origin = 'lower',\n",
    "              extent = (-1.2,0.6,-0.07,0.07),\n",
    "              aspect = 'auto',\n",
    "              cmap = 'bwr',  vmin = -1, vmax = 1.\n",
    "         )\n",
    "for ax in (ax1,ax2):\n",
    "    ax.set_ylabel(r'$\\dot x$')\n",
    "    ax.set_xlabel(r'$x$')\n",
    "fig.tight_layout()\n",
    "plt.show()"
   ]
  }
 ],
 "metadata": {
  "kernelspec": {
   "display_name": "Python 3 (ipykernel)",
   "language": "python",
   "name": "python3"
  },
  "language_info": {
   "codemirror_mode": {
    "name": "ipython",
    "version": 3
   },
   "file_extension": ".py",
   "mimetype": "text/x-python",
   "name": "python",
   "nbconvert_exporter": "python",
   "pygments_lexer": "ipython3",
   "version": "3.9.13"
  }
 },
 "nbformat": 4,
 "nbformat_minor": 5
}
