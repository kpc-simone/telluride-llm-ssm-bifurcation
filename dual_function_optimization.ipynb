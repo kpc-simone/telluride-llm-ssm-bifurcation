{
 "cells": [
  {
   "cell_type": "markdown",
   "id": "c79f5a69",
   "metadata": {},
   "source": [
    "In this notebook I explore the computational potential of a specific kind of neuromodulation observed in the hypothalamus.\n",
    "Specifically, after an acute stress, chloride extrusion within corticotropin-releasing hormone (CRH) neurons of the hypothalamic paraventricular nucleus (PVN) is disrupted.\n",
    "This causes chloride to build up inside the cell, which modifies the ion's electrochemical gradient.\n",
    "As a result, presynaptic GABAergic activity loses its inhibitory effect, and in some situations, can even become excitatory by causing chloride to rush out of the cell ([Hewitt et al., 2010](https://www.nature.com/articles/nn.2274)).\n",
    "As CRH in turn targets a many regions of the brain, it is positioned to influence high-level cognition in times of an environmental challenge.\n",
    "\n",
    "In this notebook I model the mechanism and demonstrate an immediate application, of decoding multiple functions in a context-dependent manner.\n",
    "I examine a simple feedforward network, wherein the weights can take on either excitatory or inhibitory projections. \n",
    "\n",
    "Given a feedforward network defined by populations a and b,\n",
    "the encoders of a are fixed, the projection weights from a to b may be all positive (excitatory) or negative (inhibitory),\n",
    "solve for the decoders that:\n",
    "1. Apply the same function across all condition\n",
    "2. Apply different functions depending on the condition\n"
   ]
  },
  {
   "cell_type": "markdown",
   "id": "9707f2cf",
   "metadata": {},
   "source": [
    "An essential first step is to characterize what a downstream population of neurons do with this? In other words, how might this effect be leveraged to influence behavior? Could a single layer of decoding weights"
   ]
  },
  {
   "cell_type": "code",
   "execution_count": 1,
   "id": "6fc5ecb0",
   "metadata": {},
   "outputs": [
    {
     "name": "stderr",
     "output_type": "stream",
     "text": [
      "C:\\Users\\Kathryn\\anaconda3\\lib\\site-packages\\scipy\\__init__.py:177: UserWarning: A NumPy version >=1.18.5 and <1.26.0 is required for this version of SciPy (detected version 1.26.4\n",
      "  warnings.warn(f\"A NumPy version >={np_minversion} and <{np_maxversion}\"\n"
     ]
    },
    {
     "data": {
      "application/vdom.v1+json": {
       "attributes": {},
       "tagName": "div"
      },
      "text/html": [
       "\n",
       "                <script>\n",
       "                    if (Jupyter.version.split(\".\")[0] < 5) {\n",
       "                        var pb = document.getElementById(\"df56833c-c434-4460-b66d-b522cc0dd859\");\n",
       "                        var text = document.createTextNode(\n",
       "                            \"HMTL progress bar requires Jupyter Notebook >= \" +\n",
       "                            \"5.0 or Jupyter Lab. Alternatively, you can use \" +\n",
       "                            \"TerminalProgressBar().\");\n",
       "                        pb.parentNode.insertBefore(text, pb);\n",
       "                    }\n",
       "                </script>\n",
       "                <div id=\"df56833c-c434-4460-b66d-b522cc0dd859\" style=\"\n",
       "                    width: 100%;\n",
       "                    border: 1px solid #cfcfcf;\n",
       "                    border-radius: 4px;\n",
       "                    text-align: center;\n",
       "                    position: relative;\">\n",
       "                  <div class=\"pb-text\" style=\"\n",
       "                      position: absolute;\n",
       "                      width: 100%;\">\n",
       "                    0%\n",
       "                  </div>\n",
       "                  <div class=\"pb-fill\" style=\"\n",
       "                      background-color: #bdd2e6;\n",
       "                      width: 0%;\">\n",
       "                    <style type=\"text/css\" scoped=\"scoped\">\n",
       "                        @keyframes pb-fill-anim {\n",
       "                            0% { background-position: 0 0; }\n",
       "                            100% { background-position: 100px 0; }\n",
       "                        }\n",
       "                    </style>\n",
       "                    &nbsp;\n",
       "                  </div>\n",
       "                </div>"
      ],
      "text/plain": [
       "HtmlProgressBar cannot be displayed. Please use the TerminalProgressBar. It can be enabled with `nengo.rc['progress']['progress_bar'] = 'nengo.utils.progress.TerminalProgressBar'`."
      ]
     },
     "metadata": {},
     "output_type": "display_data"
    },
    {
     "data": {
      "application/vdom.v1+json": {
       "attributes": {
        "id": "82db7bbe-35d7-483c-8ceb-b8dfde4db158",
        "style": {
         "border": "1px solid #cfcfcf",
         "borderRadius": "4px",
         "boxSizing": "border-box",
         "position": "relative",
         "textAlign": "center",
         "width": "100%"
        }
       },
       "children": [
        {
         "attributes": {
          "class": "pb-text",
          "style": {
           "position": "absolute",
           "width": "100%"
          }
         },
         "children": [
          "Build finished in 0:00:01."
         ],
         "tagName": "div"
        },
        {
         "attributes": {
          "class": "pb-fill",
          "style": {
           "animation": "none",
           "backgroundColor": "#bdd2e6",
           "backgroundImage": "none",
           "backgroundSize": "100px 100%",
           "width": "100%"
          }
         },
         "children": [
          {
           "attributes": {
            "scoped": "scoped",
            "type": "text/css"
           },
           "children": [
            "\n                        @keyframes pb-fill-anim {\n                            0% { background-position: 0 0; }\n                            100% { background-position: 100px 0; }\n                        }}"
           ],
           "tagName": "style"
          },
          " "
         ],
         "tagName": "div"
        }
       ],
       "tagName": "div"
      },
      "text/html": [
       "<script>\n",
       "              (function () {\n",
       "                  var root = document.getElementById('df56833c-c434-4460-b66d-b522cc0dd859');\n",
       "                  var text = root.getElementsByClassName('pb-text')[0];\n",
       "                  var fill = root.getElementsByClassName('pb-fill')[0];\n",
       "\n",
       "                  text.innerHTML = 'Build finished in 0:00:01.';\n",
       "                  \n",
       "            fill.style.width = '100%';\n",
       "            fill.style.animation = 'pb-fill-anim 2s linear infinite';\n",
       "            fill.style.backgroundSize = '100px 100%';\n",
       "            fill.style.backgroundImage = 'repeating-linear-gradient(' +\n",
       "                '90deg, #bdd2e6, #edf2f8 40%, #bdd2e6 80%, #bdd2e6)';\n",
       "        \n",
       "                  \n",
       "                fill.style.animation = 'none';\n",
       "                fill.style.backgroundImage = 'none';\n",
       "            \n",
       "              })();\n",
       "        </script>"
      ]
     },
     "metadata": {},
     "output_type": "display_data"
    }
   ],
   "source": [
    "# define the model \n",
    "import numpy as np\n",
    "import nengo\n",
    "\n",
    "n_neurons = 81\n",
    "\n",
    "model = nengo.Network()\n",
    "with model:\n",
    "    ens = nengo.Ensemble(\n",
    "            radius = 1.,\n",
    "            dimensions = 1,\n",
    "            n_neurons = n_neurons,\n",
    "            max_rates = np.ones((n_neurons,)),\n",
    "            neuron_type = nengo.RectifiedLinear()\n",
    "            )\n",
    "\n",
    "sim = nengo.Simulator(model)"
   ]
  },
  {
   "cell_type": "code",
   "execution_count": 5,
   "id": "4e4474fe",
   "metadata": {},
   "outputs": [
    {
     "name": "stdout",
     "output_type": "stream",
     "text": [
      "(200, 81)\n",
      "(200, 1)\n"
     ]
    }
   ],
   "source": [
    "# define inputs and desired outputs\n",
    "xs = np.random.normal(size=100).reshape(-1,1)\n",
    "ys1 = xs\n",
    "ys2 = xs\n",
    "\n",
    "# compute activities of b under the two conditions\n",
    "_, A1 = nengo.utils.ensemble.tuning_curves(ens, sim, inputs = xs)\n",
    "A2 = np.clip( A1+0.5, a_min = 0, a_max = 1. )\n",
    "\n",
    "ys = np.vstack([ys1,ys2])\n",
    "A = np.vstack([A1,A2])\n",
    "\n",
    "print(A.shape)\n",
    "print(ys.shape)\n",
    "\n",
    "# nonlinear least squares as CRH neurons are primarily glutamatergic\n",
    "solver = nengo.solvers.LstsqL2()\n",
    "#solver = nengo.solvers.NnlsL2()\n",
    "dec, info1 = solver(A, ys)\n",
    "\n",
    "ys1_dec = A1 @ dec\n",
    "ys2_dec = A2 @ dec"
   ]
  },
  {
   "cell_type": "code",
   "execution_count": 6,
   "id": "a77ca8e3",
   "metadata": {},
   "outputs": [
    {
     "data": {
      "image/png": "[encoded data removed]",
      "text/plain": [
       "<Figure size 800x400 with 2 Axes>"
      ]
     },
     "metadata": {},
     "output_type": "display_data"
    }
   ],
   "source": [
    "import matplotlib.pyplot as plt\n",
    "fig,(ax1,ax2) = plt.subplots(1,2,figsize=(8.,4.))\n",
    "ax1.scatter(ys1,ys1_dec,color='dimgray')\n",
    "ax1.set_title('Baseline')\n",
    "ax2.scatter(ys2,ys2_dec,color='dimgray')\n",
    "ax2.set_title('Elevated activity')\n",
    "\n",
    "for ax in (ax1,ax2):\n",
    "    ax.plot([0.,1.5],[0.,1.5],color='k',linestyle='--')\n",
    "    ax.set_xlabel('Desired Output')\n",
    "    ax.set_ylabel('Actual Output')\n",
    "plt.show()"
   ]
  },
  {
   "cell_type": "code",
   "execution_count": 4,
   "id": "e21263d2",
   "metadata": {},
   "outputs": [],
   "source": [
    "tau_synapse = 0.1\n",
    "tau = 0.1\n",
    "n_neurons = 1000\n",
    "\n",
    "with nengo.Network() as model:\n",
    "    stim = nengo.Node([0])\n",
    "    u = nengo.Ensemble(n_neurons=500,dimensions=1)\n",
    "    nengo.Connection(stim,u)\n",
    "    \n",
    "    diff = nengo.Ensemble( n_neurons = n_neurons, \n",
    "                                dimensions = 3, \n",
    "                                radius = 0.1, \n",
    "                                max_rates = 50*np.ones((n_neurons,)) \n",
    "                                )\n",
    "    nengo.Connection( u, diff[2], synapse = tau_synapse, transform = tau_synapse )\n",
    "\n",
    "    # tau f(x) + x\n",
    "    def recurrent(x):\n",
    "        x0,x1,u = x\n",
    "        dx0 = ( - x0 + u ) / tau\n",
    "        dx1 = ( - x1 - x0 + u ) / tau\n",
    "        return [tau_synapse * dx0 + x[0], tau_synapse * dx1 + x[1], 0]\n",
    "        \n",
    "    nengo.Connection(diff,diff,function=recurrent,synapse=tau_synapse)"
   ]
  }
 ],
 "metadata": {
  "kernelspec": {
   "display_name": "Python 3 (ipykernel)",
   "language": "python",
   "name": "python3"
  },
  "language_info": {
   "codemirror_mode": {
    "name": "ipython",
    "version": 3
   },
   "file_extension": ".py",
   "mimetype": "text/x-python",
   "name": "python",
   "nbconvert_exporter": "python",
   "pygments_lexer": "ipython3",
   "version": "3.9.13"
  }
 },
 "nbformat": 4,
 "nbformat_minor": 5
}
