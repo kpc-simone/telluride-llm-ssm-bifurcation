{
 "cells": [
  {
   "cell_type": "code",
   "execution_count": 1,
   "id": "5bd7453e-be4d-4f38-bba3-3e245c9d1abe",
   "metadata": {},
   "outputs": [],
   "source": [
    "import matplotlib.pyplot as plt\n",
    "import pandas as pd\n",
    "import numpy as np"
   ]
  },
  {
   "cell_type": "code",
   "execution_count": null,
   "id": "3ea1c833-d086-4a68-b8b2-d4be45845e6d",
   "metadata": {},
   "outputs": [],
   "source": [
    "df1 = pd.read_csv('rep_learning-True.csv')\n",
    "df2 = pd.read_csv('rep_learning-False.csv')\n",
    "\n",
    "fig,ax = plt.subplots(1,1)\n",
    "ax.plot(df1['time'],df1['error'].pow(2).rolling(10000,min_periods = 0).apply(lambda x: np.sqrt(x.mean())),color='dimgray',label='with Voja')\n",
    "ax.plot(df2['time'],df2['error'].pow(2).rolling(10000,min_periods = 0).apply(lambda x: np.sqrt(x.mean())),color='k',label='without Voja')\n",
    "ax.legend(loc='upper right',fancybox=False)\n",
    "ax.set_xlim(0,150.)\n",
    "ax.set_xlabel('Time (s)')\n",
    "ax.set_ylabel('Mean Squared Error of Approximation')\n",
    "plt.show()"
   ]
  }
 ],
 "metadata": {
  "kernelspec": {
   "display_name": "Python 3 (ipykernel)",
   "language": "python",
   "name": "python3"
  },
  "language_info": {
   "codemirror_mode": {
    "name": "ipython",
    "version": 3
   },
   "file_extension": ".py",
   "mimetype": "text/x-python",
   "name": "python",
   "nbconvert_exporter": "python",
   "pygments_lexer": "ipython3",
   "version": "3.12.0"
  }
 },
 "nbformat": 4,
 "nbformat_minor": 5
}
