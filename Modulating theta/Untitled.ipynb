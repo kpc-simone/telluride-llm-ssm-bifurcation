{
 "cells": [
  {
   "cell_type": "code",
   "execution_count": 3,
   "id": "b23b9a3c-6bd8-42c0-8efc-da9c36132621",
   "metadata": {},
   "outputs": [],
   "source": [
    "import numpy as np\n",
    "import scipy.linalg\n",
    "\n",
    "q = 6\n",
    "theta=1\n",
    "Q = np.arange(q, dtype=np.float64)\n",
    "R = (2*Q + 1)[:, None] / theta\n",
    "j, i = np.meshgrid(Q, Q)\n",
    "\n",
    "A = np.where(i < j, -1, (-1.)**(i-j+1)) * R\n",
    "Ad = scipy.linalg.expm(A*0.01)"
   ]
  },
  {
   "cell_type": "code",
   "execution_count": 4,
   "id": "9409a535-0ba9-4f04-883d-5859d7a29b93",
   "metadata": {},
   "outputs": [
    {
     "data": {
      "text/plain": [
       "array([[ 0.98976506, -0.00966339, -0.00994197, -0.00916487, -0.00928167,\n",
       "        -0.00830771],\n",
       "       [ 0.02899017,  0.97071686, -0.03012503, -0.02777758, -0.02813074,\n",
       "        -0.02518877],\n",
       "       [-0.04970986,  0.05020839,  0.94878458, -0.04724883, -0.0478466 ,\n",
       "        -0.04287583],\n",
       "       [ 0.06415406, -0.06481436,  0.06614836,  0.93181682, -0.06903961,\n",
       "        -0.06193701],\n",
       "       [-0.08353507,  0.08439222, -0.08612388,  0.08876521,  0.90762995,\n",
       "        -0.08298771],\n",
       "       [ 0.09138486, -0.09235882,  0.09432683, -0.09732959,  0.10142943,\n",
       "         0.89328807]])"
      ]
     },
     "execution_count": 4,
     "metadata": {},
     "output_type": "execute_result"
    }
   ],
   "source": [
    "Ad"
   ]
  },
  {
   "cell_type": "code",
   "execution_count": null,
   "id": "a0545f99-06f5-43b9-a10d-722d5252c4c2",
   "metadata": {},
   "outputs": [],
   "source": []
  }
 ],
 "metadata": {
  "kernelspec": {
   "display_name": "Python 3 (ipykernel)",
   "language": "python",
   "name": "python3"
  },
  "language_info": {
   "codemirror_mode": {
    "name": "ipython",
    "version": 3
   },
   "file_extension": ".py",
   "mimetype": "text/x-python",
   "name": "python",
   "nbconvert_exporter": "python",
   "pygments_lexer": "ipython3",
   "version": "3.11.0"
  }
 },
 "nbformat": 4,
 "nbformat_minor": 5
}
